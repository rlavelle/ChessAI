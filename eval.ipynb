{
 "metadata": {
  "language_info": {
   "codemirror_mode": {
    "name": "ipython",
    "version": 3
   },
   "file_extension": ".py",
   "mimetype": "text/x-python",
   "name": "python",
   "nbconvert_exporter": "python",
   "pygments_lexer": "ipython3",
   "version": "3.8.5-final"
  },
  "orig_nbformat": 2,
  "kernelspec": {
   "name": "python385jvsc74a57bd04fedbdb6e668446f3c96061a3e0973608a7182bb8999eeda9ee69679a98fef9b",
   "display_name": "Python 3.8.5 64-bit"
  },
  "metadata": {
   "interpreter": {
    "hash": "4fedbdb6e668446f3c96061a3e0973608a7182bb8999eeda9ee69679a98fef9b"
   }
  }
 },
 "nbformat": 4,
 "nbformat_minor": 2,
 "cells": [
  {
   "cell_type": "code",
   "execution_count": 12,
   "metadata": {},
   "outputs": [],
   "source": [
    "from chess import pgn\n",
    "from chess import svg"
   ]
  },
  {
   "cell_type": "code",
   "execution_count": 7,
   "metadata": {},
   "outputs": [],
   "source": []
  },
  {
   "cell_type": "code",
   "execution_count": 47,
   "metadata": {},
   "outputs": [],
   "source": [
    "p = open(\"lichessdb.pgn\")\n",
    "classical_count = 0\n",
    "blitz_count = 0\n",
    "bullet_count = 0\n",
    "\n",
    "with open('classicals.pgn', 'w') as outfile:\n",
    "    for i in range(0,10000):\n",
    "        game = pgn.read_game(p)\n",
    "        if 'Classical' in game.headers['Event']:\n",
    "            print(game, file = outfile)\n",
    "            # print('yeah!')\n",
    "            classical_count += 1\n",
    "\n"
   ]
  },
  {
   "cell_type": "code",
   "execution_count": 48,
   "metadata": {},
   "outputs": [
    {
     "output_type": "stream",
     "name": "stdout",
     "text": [
      "3576 0 0\n"
     ]
    }
   ],
   "source": [
    "print(classical_count,blitz_count,bullet_count)"
   ]
  }
 ]
}