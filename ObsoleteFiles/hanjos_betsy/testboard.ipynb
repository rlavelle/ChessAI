{
 "metadata": {
  "language_info": {
   "codemirror_mode": {
    "name": "ipython",
    "version": 3
   },
   "file_extension": ".py",
   "mimetype": "text/x-python",
   "name": "python",
   "nbconvert_exporter": "python",
   "pygments_lexer": "ipython3",
   "version": "3.8.5-final"
  },
  "orig_nbformat": 2,
  "kernelspec": {
   "name": "Python 3.8.5 64-bit",
   "display_name": "Python 3.8.5 64-bit",
   "metadata": {
    "interpreter": {
     "hash": "4fedbdb6e668446f3c96061a3e0973608a7182bb8999eeda9ee69679a98fef9b"
    }
   }
  }
 },
 "nbformat": 4,
 "nbformat_minor": 2,
 "cells": [
  {
   "cell_type": "code",
   "execution_count": 2,
   "metadata": {},
   "outputs": [],
   "source": [
    "emptyboard = ''\n",
    "for i in range(0,64):\n",
    "    emptyboard += '.'\n",
    "# len(emptyboard)"
   ]
  },
  {
   "cell_type": "code",
   "execution_count": 3,
   "metadata": {},
   "outputs": [
    {
     "output_type": "execute_result",
     "data": {
      "text/plain": [
       "[['R', 'N', 'B', 'Q', 'K', 'B', 'N', 'R'],\n",
       " ['P', 'P', '.', 'P', 'P', 'P', 'P', 'P'],\n",
       " ['.', '.', '.', '.', '.', '.', '.', '.'],\n",
       " ['.', '.', 'P', '.', '.', '.', '.', '.'],\n",
       " ['.', '.', '.', '.', '.', '.', '.', '.'],\n",
       " ['.', '.', '.', '.', '.', '.', '.', '.'],\n",
       " ['p', 'p', 'p', 'p', 'p', 'p', 'p', 'p'],\n",
       " ['r', 'n', 'b', 'q', 'k', 'b', 'n', 'r']]"
      ]
     },
     "metadata": {},
     "execution_count": 3
    }
   ],
   "source": [
    "# convert raw board(aka '........') into a list aka [[row1],[row2],...,[row8]]\n",
    "def boardify(boardstring):\n",
    "    fin_board = []\n",
    "    for row in range(0,8):\n",
    "        fin_board.append(list(boardstring[row*8:row*8+8]))\n",
    "    return fin_board\n",
    "# xx = boardify(onerook)\n",
    "# xx\n",
    "startboard = \"RNBQKBNRPPPPPPPP................................pppppppprnbqkbnr\"\n",
    "\n",
    "# Hmm, I’ll move the Parakeet at row 2 column 3 to row 4 column 3.\n",
    "# New board:\n",
    "# RNBQKBNRPP.PPPPP..........P.....................pppppppprnbqkbnr\n",
    "sb = boardify(startboard)\n",
    "nextboard =  'RNBQKBNRPP.PPPPP..........P.....................pppppppprnbqkbnr'\n",
    "nb = boardify(nextboard)\n",
    "nb"
   ]
  },
  {
   "cell_type": "code",
   "execution_count": 4,
   "metadata": {},
   "outputs": [
    {
     "output_type": "execute_result",
     "data": {
      "text/plain": [
       "[['r', '.', '.', '.', '.', '.', '.', '.'],\n",
       " ['.', '.', '.', '.', '.', '.', '.', '.'],\n",
       " ['.', '.', '.', '.', '.', '.', '.', '.'],\n",
       " ['.', '.', '.', '.', '.', '.', '.', '.'],\n",
       " ['.', '.', '.', '.', '.', '.', '.', '.'],\n",
       " ['.', '.', '.', '.', '.', '.', '.', '.'],\n",
       " ['.', '.', '.', '.', '.', '.', '.', '.'],\n",
       " ['.', '.', '.', '.', '.', '.', '.', '.']]"
      ]
     },
     "metadata": {},
     "execution_count": 4
    }
   ],
   "source": [
    "onerook = list(emptyboard)\n",
    "onerook[0] = 'r'\n",
    "xx = boardify(onerook)\n",
    "xx"
   ]
  },
  {
   "cell_type": "code",
   "execution_count": 5,
   "metadata": {},
   "outputs": [],
   "source": [
    "def valid_spots_bishop(board, ploc, my_pieces,opposing_pieces):\n",
    "    valid_list = []\n",
    "    r,c = ploc\n",
    "    r += 1\n",
    "    c += 1\n",
    "    limit = 0\n",
    "    while r <= len(board) - 1 and c <= len(board[0])-1 and limit ==0:\n",
    "        if board[r][c] in my_pieces:\n",
    "            limit = 1\n",
    "        elif board[r][c] in opposing_pieces:\n",
    "            valid_list.append((r,c))\n",
    "            limit = 1\n",
    "        else:\n",
    "            valid_list.append((r,c))\n",
    "            r += 1\n",
    "            c +=1\n",
    "    # go up and left , row -=1 col -=1:\n",
    "    r,c = ploc\n",
    "    r -= 1\n",
    "    c -= 1\n",
    "    limit = 0\n",
    "    while r >= 0 and c >= 0 and limit ==0:\n",
    "        if board[r][c] in my_pieces:\n",
    "            limit = 1\n",
    "        elif board[r][c] in opposing_pieces:\n",
    "            valid_list.append((r,c))\n",
    "            limit = 1\n",
    "        else:\n",
    "            valid_list.append((r,c))\n",
    "            r -= 1\n",
    "            c -=1\n",
    "    # go down and left , row +=1 col +=1:\n",
    "    r,c = ploc\n",
    "    r += 1\n",
    "    c -= 1\n",
    "    limit = 0\n",
    "    while r <= len(board) - 1 and c >= 0 and limit ==0:\n",
    "        if board[r][c] in my_pieces:\n",
    "            limit = 1\n",
    "        elif board[r][c] in opposing_pieces:\n",
    "            valid_list.append((r,c))\n",
    "            limit = 1\n",
    "        else:\n",
    "            valid_list.append((r,c))\n",
    "            r += 1\n",
    "            c -=1\n",
    "    # go up and right , row +=1 col +=1:\n",
    "    r,c = ploc\n",
    "    r -= 1\n",
    "    c += 1\n",
    "    limit = 0\n",
    "    while r >= 0 and c <= len(board[0])-1 and limit ==0:\n",
    "        if board[r][c] in my_pieces:\n",
    "            limit = 1\n",
    "        elif board[r][c] in opposing_pieces:\n",
    "            valid_list.append((r,c))\n",
    "            limit = 1\n",
    "        else:\n",
    "            valid_list.append((r,c))\n",
    "            r -= 1\n",
    "            c +=1\n",
    "    return valid_list\n",
    "\n",
    "# valid_spots_bishop(xx,(3,3))"
   ]
  },
  {
   "cell_type": "code",
   "execution_count": 6,
   "metadata": {},
   "outputs": [
    {
     "output_type": "execute_result",
     "data": {
      "text/plain": [
       "False"
      ]
     },
     "metadata": {},
     "execution_count": 6
    }
   ],
   "source": [
    "'o' in ['O']"
   ]
  },
  {
   "cell_type": "code",
   "execution_count": 7,
   "metadata": {},
   "outputs": [],
   "source": [
    "def valid_spots_knight(board,ploc,my_pieces,opposing_pieces):\n",
    "    valid_list=[]\n",
    "    r,c = ploc\n",
    "    spots_to_check = [(r+2,c+1),(r-2,c+1),\n",
    "    (r+2,c-1),(r-2,c-1),\n",
    "    (r+1,c+2),(r+1,c-2),\n",
    "    (r-1,c+2),(r-1,c-2)]\n",
    "    for spot in spots_to_check:\n",
    "        rs,cs = spot\n",
    "        # if that spot is within the board:\n",
    "        if rs <=len(board) - 1 and rs >= 0 and cs <= len(board) - 1 and cs >= 0 and board[rs][cs] not in my_pieces:\n",
    "            valid_list.append(spot)\n",
    "    return valid_list"
   ]
  },
  {
   "cell_type": "code",
   "execution_count": 8,
   "metadata": {},
   "outputs": [],
   "source": [
    "def valid_spots_king(board,ploc,my_pieces,opposing_pieces):\n",
    "    valid_list = []\n",
    "    r,c = ploc\n",
    "    spots_to_check = [(r+1,c),(r-1,c),\n",
    "                        (r,c+1),(r,c-1),\n",
    "                        (r+1,c+1),(r-1,c-1),\n",
    "                        (r-1,c+1),(r+1,c-1)]\n",
    "    for spot in spots_to_check:\n",
    "        rs,cs = spot\n",
    "        if rs <=len(board) - 1 and rs >= 0 and cs <= len(board) - 1 and cs >= 0:\n",
    "            if board[rs][cs] not in my_pieces:\n",
    "                valid_list.append(spot)\n",
    "    return valid_list\n",
    "def valid_spots_pawn(board,ploc,my_pieces,opposing_pieces):\n",
    "    valid_list = []\n",
    "    r,c = ploc\n",
    "    spots_to_check_move = []\n",
    "    spots_to_check_capture = []\n",
    "    # if I am white, iterate downwards\n",
    "    if 'K' in my_pieces:\n",
    "        # if the row of pawn is in init position\n",
    "        spots_to_check_move.append((r+1,c))\n",
    "        if r == 1:\n",
    "            spots_to_check_move.append((r+2,c))\n",
    "        spots_to_check_capture += ((r+1,c+1),(r+1,c-1))\n",
    "    # else I am black; iterate upwards:\n",
    "    else:\n",
    "        spots_to_check_move.append((r-1,c))\n",
    "        if r == 6:\n",
    "            spots_to_check_move.append((r-2,c))\n",
    "        spots_to_check_capture +=((r-1,c-1),(r-1,c+1))\n",
    "\n",
    "        \n",
    "    for spot in spots_to_check_capture:\n",
    "        rs,cs = spot \n",
    "        if rs <=len(board) - 1 and rs >= 0 and cs <= len(board) - 1 and cs >= 0:\n",
    "            if board[rs][cs] in opposing_pieces:\n",
    "                valid_list.append(spot)\n",
    "    for spot in spots_to_check_move:\n",
    "        rs,cs = spot\n",
    "        if rs <=len(board) - 1 and rs >= 0 and cs <= len(board) - 1 and cs >= 0:\n",
    "            if board[rs][cs] == '.':\n",
    "                valid_list.append(spot)\n",
    "            # if there's either your own piece or your opp's piece, stop checking.\n",
    "            else:\n",
    "                return valid_list\n",
    "    return valid_list"
   ]
  },
  {
   "cell_type": "code",
   "execution_count": 9,
   "metadata": {},
   "outputs": [
    {
     "output_type": "execute_result",
     "data": {
      "text/plain": [
       "[['r', '.', '.', '.', '.', '.', '.', '.'],\n",
       " ['.', '.', '.', '.', '.', '.', '.', '.'],\n",
       " ['.', '.', '.', '.', '.', '.', '.', '.'],\n",
       " ['.', '.', '.', '.', '.', '.', '.', '.'],\n",
       " ['.', '.', '.', '.', '.', '.', '.', '.'],\n",
       " ['.', '.', '.', '.', '.', '.', '.', '.'],\n",
       " ['.', '.', '.', '.', '.', '.', '.', '.'],\n",
       " ['.', '.', '.', '.', '.', '.', '.', '.']]"
      ]
     },
     "metadata": {},
     "execution_count": 9
    }
   ],
   "source": [
    "white_pieces = ['R', 'N', 'B', 'Q', 'K', 'B', 'N', 'R','P']\n",
    "black_pieces = ['p','r', 'n', 'b', 'q', 'k', 'b', 'n', 'r']\n",
    "# modified from a0 part 2 hanjos\n",
    "# valid_spots_rook(board,rooklocation) -> list of tuples of valid spots for that location\n",
    "def valid_spots_rook(board, ploc, my_pieces,opposing_pieces):\n",
    "    valid_list = []\n",
    "    r,c = ploc\n",
    "\n",
    "    # go down: r +=1\n",
    "    r += 1\n",
    "    limit = 0\n",
    "    while r <= len(board) - 1 and limit ==0:\n",
    "        if board[r][c] in my_pieces:\n",
    "            limit = 1\n",
    "        elif board[r][c] in opposing_pieces:\n",
    "            valid_list.append((r,c))\n",
    "            limit = 1\n",
    "        else:\n",
    "            valid_list.append((r,c))\n",
    "            r += 1\n",
    "    # go up, row -= 1:\n",
    "    r,c = ploc\n",
    "    r -= 1\n",
    "    limit = 0\n",
    "    while r >= 0 and limit == 0:\n",
    "        if board[r][c] in my_pieces:\n",
    "            limit = 1\n",
    "        elif board[r][c] in opposing_pieces:\n",
    "            valid_list.append((r,c))\n",
    "            limit = 1\n",
    "        else:\n",
    "            valid_list.append((r,c))\n",
    "            r -= 1\n",
    "    # go right, col += 1:\n",
    "    r,c = ploc\n",
    "    c +=1\n",
    "    limit = 0\n",
    "    while c <= len(board[0]) - 1 and limit == 0:\n",
    "        if board[r][c] in my_pieces:\n",
    "            limit = 1\n",
    "        elif board[r][c] in opposing_pieces:\n",
    "            valid_list.append((r,c))\n",
    "            limit = 1\n",
    "        else:\n",
    "            valid_list.append((r,c))\n",
    "            c += 1\n",
    "    # go left , col -= 1:\n",
    "    r,c = ploc\n",
    "    c -= 1\n",
    "    limit = 0\n",
    "    while c >= 0 and limit == 0:\n",
    "        if board[r][c] in my_pieces:\n",
    "            limit = 1\n",
    "        elif board[r][c] in opposing_pieces:\n",
    "            valid_list.append((r,c))\n",
    "            limit = 1\n",
    "        else:\n",
    "            valid_list.append((r,c))\n",
    "            c -= 1\n",
    "    return valid_list\n",
    "# xx[0][1] = 'P'\n",
    "# xx[5][0] = 'r'\n",
    "# print(valid_spots_rook(xx,(0,0)))\n",
    "xx"
   ]
  },
  {
   "cell_type": "code",
   "execution_count": 10,
   "metadata": {},
   "outputs": [
    {
     "output_type": "execute_result",
     "data": {
      "text/plain": [
       "[(5, 0), (4, 0)]"
      ]
     },
     "metadata": {},
     "execution_count": 10
    }
   ],
   "source": [
    "# given the board and the location specified,\n",
    "# identify the piece, and then evaluate the list of valid locations that the piece can move to.\n",
    "def valid_spots(board,ploc):\n",
    "    valid_list = []\n",
    "    r,c = ploc\n",
    "    piece = board[r][c]\n",
    "    if piece in white_pieces:\n",
    "        my_pieces = white_pieces\n",
    "        opposing_pieces= black_pieces\n",
    "    else:\n",
    "        my_pieces = black_pieces\n",
    "        opposing_pieces = white_pieces\n",
    "    if piece in ['r',\"R\"]:\n",
    "        return valid_spots_rook(board,ploc,my_pieces,opposing_pieces)\n",
    "    if piece in ['b','B']:\n",
    "        return valid_spots_bishop(board,ploc,my_pieces,opposing_pieces)\n",
    "    if piece in ['q','Q']:\n",
    "        valid_queens = valid_spots_rook(board,ploc,my_pieces,opposing_pieces) + valid_spots_bishop(board,ploc,my_pieces,opposing_pieces)\n",
    "        return valid_queens\n",
    "    if piece in ['k','K']:\n",
    "        return valid_spots_king(board,ploc,my_pieces,opposing_pieces)\n",
    "    if piece in ['p','P']:\n",
    "        return valid_spots_pawn(board,ploc,my_pieces,opposing_pieces)\n",
    "    if piece in ['n','N']:\n",
    "        return valid_spots_knight(board,ploc,my_pieces,opposing_pieces)\n",
    "# valid_spots(xx,(0,0))\n",
    "xx[3][3] = 'Q'\n",
    "xx[3][2] = 'K'\n",
    "xx[4][2] = 'p'\n",
    "xx[3][1] = 'p'\n",
    "xx[4][1] = 'N'\n",
    "xx[1][0] = 'p'\n",
    "xx[2][0] = 'P'\n",
    "xx[6][1] = 'p'\n",
    "xx[6][0] = 'p'\n",
    "valid_spots(xx,(6,0))\n",
    "# xx"
   ]
  },
  {
   "cell_type": "code",
   "execution_count": 11,
   "metadata": {},
   "outputs": [
    {
     "output_type": "execute_result",
     "data": {
      "text/plain": [
       "'r.......p.......P........pKQ.....Np.............pp..............'"
      ]
     },
     "metadata": {},
     "execution_count": 11
    }
   ],
   "source": [
    "# for when the program needs to send the next move to player2\n",
    "# board_to_string(board) -> string of original raw board string\n",
    "def board_to_string(board):\n",
    "    result = ''\n",
    "    for row in board:\n",
    "        result += \"\".join(row)\n",
    "    return result\n",
    "board_to_string(xx)"
   ]
  },
  {
   "cell_type": "code",
   "execution_count": 73,
   "metadata": {},
   "outputs": [
    {
     "output_type": "execute_result",
     "data": {
      "text/plain": [
       "[['R', 'N', 'B', 'Q', 'K', 'B', 'N', 'R'],\n",
       " ['P', 'P', '.', 'P', 'P', 'P', 'P', 'P'],\n",
       " ['.', '.', '.', '.', '.', '.', '.', '.'],\n",
       " ['.', '.', 'P', '.', '.', '.', '.', '.'],\n",
       " ['.', '.', '.', '.', '.', '.', '.', '.'],\n",
       " ['.', '.', '.', '.', '.', '.', '.', '.'],\n",
       " ['p', 'p', 'p', 'p', 'p', 'p', 'p', 'p'],\n",
       " ['r', 'n', 'b', 'q', 'k', 'b', 'n', 'r']]"
      ]
     },
     "metadata": {},
     "execution_count": 73
    }
   ],
   "source": [
    "# given a board, locate the piece with firstloc\n",
    "# board, first location(row,col),final location(row,col) -> new board config\n",
    "def move_piece(board, firstloc,nextloc):\n",
    "    stringedboard = board_to_string(board)\n",
    "    nextboard = boardify(stringedboard)\n",
    "    (fr,fc) = firstloc\n",
    "    (nr,nc) = nextloc\n",
    "    # TODO: identify the piece, and then check if \n",
    "    # nextloc is within the allowed moves.\n",
    "    vspots = valid_spots(board,firstloc)\n",
    "    if nextloc in vspots:\n",
    "        # print(board[fr][fc], 'is moving to:', nr,nc)\n",
    "        piece = board[fr][fc]\n",
    "    else:\n",
    "        print('not allowed!!!!!')\n",
    "        return board\n",
    "\n",
    "    # replace firsloc with an empty since it's being moved:\n",
    "    nextboard[fr][fc] = '.'\n",
    "    # print(piece)\n",
    "    # replace the empty slot with the piece that is being moved:\n",
    "    nextboard[nr][nc] = piece\n",
    "    return nextboard\n",
    "startboard = \"RNBQKBNRPPPPPPPP................................pppppppprnbqkbnr\"\n",
    "sb = boardify(startboard) \n",
    "move_piece(sb,(1,2),(3,2))\n",
    "# sb"
   ]
  },
  {
   "cell_type": "code",
   "execution_count": 104,
   "metadata": {},
   "outputs": [],
   "source": [
    "# (board,side) -> (list of valid next boards)\n",
    "# given a board and a specified side,\n",
    "# iterate through all of my pieces, and then return a list of all of \n",
    "# the valid configs the board could change to.\n",
    "def successors_board(board,side):\n",
    "    if side == 'W':\n",
    "        my_pieces = white_pieces\n",
    "    elif side == 'B':\n",
    "        my_pieces = black_pieces\n",
    "    # valid_spots_full = []\n",
    "    successors = []\n",
    "    for row in range(0,8):\n",
    "        for col in range(0,8):\n",
    "            if board[row][col] in my_pieces:\n",
    "                # print((row,col),board[row][col], valid_spots(board,(row,col)))\n",
    "                # valid_spots_full += valid_spots(board,(row,col))\n",
    "                if valid_spots(board,(row,col)) != None:\n",
    "                    for next_spot in valid_spots(board,(row,col)): \n",
    "                        # print(move_piece(board,(row,col),next_spot))\n",
    "                        successors.append(move_piece(board,(row,col),next_spot))\n",
    "    return successors\n",
    "# (successors_board(eb,'W'))\n",
    "# total_valid_spots(sb,'B')\n",
    "# black_pieces\n",
    "# valid_spots(sb,(6,7))\n",
    "# sb"
   ]
  },
  {
   "cell_type": "code",
   "execution_count": 175,
   "metadata": {},
   "outputs": [
    {
     "output_type": "execute_result",
     "data": {
      "text/plain": [
       "3.55"
      ]
     },
     "metadata": {},
     "execution_count": 175
    }
   ],
   "source": [
    "# count total vals for white vs black.\n",
    "# positive = more values for white, aka white is winning\n",
    "# negative = more values for black.\n",
    "def evaluate_board(board):\n",
    "    piece_values = {'R':5, 'N':3.05, 'B':3.33, 'Q':9.5, 'K':1000, 'P':1}\n",
    "    totalval = 0\n",
    "    for row in board:\n",
    "        for piece in row:\n",
    "            if piece in white_pieces:\n",
    "                totalval += piece_values[piece]\n",
    "            if piece in black_pieces:\n",
    "                totalval -= piece_values[piece.upper()]\n",
    "    return totalval\n",
    "evaluate_board(xx)"
   ]
  },
  {
   "cell_type": "code",
   "execution_count": 176,
   "metadata": {},
   "outputs": [
    {
     "output_type": "execute_result",
     "data": {
      "text/plain": [
       "[['r', '.', '.', '.', '.', 'k', '.', '.'],\n",
       " ['p', '.', '.', '.', '.', '.', '.', '.'],\n",
       " ['P', '.', '.', '.', '.', '.', '.', '.'],\n",
       " ['.', 'p', 'K', 'Q', '.', '.', '.', '.'],\n",
       " ['.', 'N', 'p', '.', '.', '.', '.', '.'],\n",
       " ['.', '.', '.', '.', '.', '.', '.', '.'],\n",
       " ['p', 'p', '.', '.', '.', '.', '.', '.'],\n",
       " ['.', '.', '.', '.', '.', '.', '.', '.']]"
      ]
     },
     "metadata": {},
     "execution_count": 176
    }
   ],
   "source": [
    "xx[0][5] = 'k'\n",
    "evaluate_board(xx)\n",
    "xx"
   ]
  },
  {
   "cell_type": "code",
   "execution_count": 177,
   "metadata": {},
   "outputs": [
    {
     "output_type": "stream",
     "name": "stdout",
     "text": [
      "r....k..\np.......\nP.......\n.pKQ....\n.Np.....\n........\npp......\n........\n"
     ]
    }
   ],
   "source": [
    "# given board, print visualization of board\n",
    "def print_board(board):\n",
    "    for i in range(0,len(board)):\n",
    "        # print(i)\n",
    "        s = ''.join(board[i])\n",
    "        print(s)\n",
    "    # for row in board:\n",
    "    #     print(''.join(row))\n",
    "print_board(xx)"
   ]
  },
  {
   "cell_type": "code",
   "execution_count": 178,
   "metadata": {
    "tags": []
   },
   "outputs": [
    {
     "output_type": "execute_result",
     "data": {
      "text/plain": [
       "(1000,\n",
       " [['.', '.', '.', '.', '.', '.', '.', '.'],\n",
       "  ['k', '.', '.', '.', '.', '.', '.', '.'],\n",
       "  ['.', 'K', '.', '.', '.', '.', '.', '.'],\n",
       "  ['.', '.', '.', '.', '.', '.', '.', '.'],\n",
       "  ['.', '.', '.', '.', '.', '.', '.', '.'],\n",
       "  ['.', '.', '.', '.', '.', '.', '.', '.'],\n",
       "  ['.', '.', '.', '.', '.', '.', '.', '.'],\n",
       "  ['.', '.', '.', '.', '.', '.', '.', '.']])"
      ]
     },
     "metadata": {},
     "execution_count": 178
    }
   ],
   "source": [
    "import math\n",
    "def alphabeta(board,depth,a,b,maximizing_player):\n",
    "    fringe = successors_board(board,maximizing_player)\n",
    "    if fringe == []:\n",
    "        fringe = [board]\n",
    "    # print(fringe)\n",
    "    # print(depth)\n",
    "    # print(a,b)\n",
    "    # if fringe != []:\n",
    "    #     print_board(fringe[0])\n",
    "    bestmove = None\n",
    "    # print(evaluate_board(board) not in range(-43.,43.))\n",
    "    if depth == 0 :\n",
    "    # if depth == 0:\n",
    "        # print('hi',board)\n",
    "        # print(evaluate_board(board),board_to_string(board))\n",
    "        return [evaluate_board(board),board]\n",
    "    elif maximizing_player == \"W\":\n",
    "        value = a\n",
    "        for child in fringe:\n",
    "            # ab = alphabeta(child,depth -1, a, b, \"B\")[0]\n",
    "            if value < alphabeta(child,depth -1, a, b, \"B\")[0]:\n",
    "                value = alphabeta(child,depth -1, a, b, \"B\")[0]\n",
    "                bestmove = child\n",
    "            # value = max(value, alphabeta(child,depth -1, a, b, \"B\")[0])\n",
    "            a = max(a,value)\n",
    "            # bstring = board_to_string(child)\n",
    "            # print('')\n",
    "            # print_board(child)\n",
    "            if a >=b:\n",
    "                # bestmove = child\n",
    "                break\n",
    "        # print('hi',value)\n",
    "        # return value,child\n",
    "        return value, bestmove\n",
    "    elif maximizing_player == \"B\":\n",
    "        value = b\n",
    "        for child in fringe:\n",
    "            if value >alphabeta(child,depth-1,a,b,\"W\")[0]:\n",
    "                value = alphabeta(child,depth-1,a,b,\"W\")[0]\n",
    "                bestmove = child\n",
    "            # value = min(value, alphabeta(child,depth-1,a,b,\"W\")[0])\n",
    "            b = min(b,value)\n",
    "            bstring = board_to_string(child)\n",
    "            # print('')\n",
    "            # print_board(child)\n",
    "            if b<=a:\n",
    "                # bestmove = child\n",
    "                break\n",
    "        # return value,child\n",
    "        return value, bestmove\n",
    "\n",
    "\n",
    "# alphabeta(sb,4,-math.inf,math.inf,\"B\")\n",
    "alphabeta(eb,4,-math.inf,math.inf,\"B\")\n",
    "# sb\n"
   ]
  },
  {
   "cell_type": "code",
   "execution_count": 179,
   "metadata": {},
   "outputs": [
    {
     "output_type": "execute_result",
     "data": {
      "text/plain": [
       "[['k', '.', '.', '.', '.', '.', '.', '.'],\n",
       " ['Q', '.', '.', '.', '.', '.', '.', '.'],\n",
       " ['.', 'K', '.', '.', '.', '.', '.', '.'],\n",
       " ['.', '.', '.', '.', '.', '.', '.', '.'],\n",
       " ['.', '.', '.', '.', '.', '.', '.', '.'],\n",
       " ['.', '.', '.', '.', '.', '.', '.', '.'],\n",
       " ['.', '.', '.', '.', '.', '.', '.', '.'],\n",
       " ['.', '.', '.', '.', '.', '.', '.', '.']]"
      ]
     },
     "metadata": {},
     "execution_count": 179
    }
   ],
   "source": [
    "eb\n",
    "# aaa = successors_board(eb,'W')\n",
    "# for a in aaa:\n",
    "#     a = board_to_string(a)\n",
    "# aaa"
   ]
  },
  {
   "cell_type": "code",
   "execution_count": 180,
   "metadata": {},
   "outputs": [
    {
     "output_type": "execute_result",
     "data": {
      "text/plain": [
       "[['.', '.', '.', '.', '.', '.', '.', '.'],\n",
       " ['.', '.', '.', '.', '.', '.', '.', '.'],\n",
       " ['k', '.', '.', '.', '.', '.', '.', '.'],\n",
       " ['.', '.', '.', '.', '.', '.', '.', '.'],\n",
       " ['.', 'K', '.', '.', '.', '.', '.', '.'],\n",
       " ['.', '.', '.', '.', '.', '.', '.', '.'],\n",
       " ['.', '.', '.', '.', '.', '.', '.', '.'],\n",
       " ['.', '.', '.', '.', '.', '.', '.', '.']]"
      ]
     },
     "metadata": {},
     "execution_count": 180
    }
   ],
   "source": [
    "boardify('................k................K..............................')"
   ]
  },
  {
   "cell_type": "code",
   "execution_count": 181,
   "metadata": {},
   "outputs": [],
   "source": [
    "# import math\n",
    "# def alphabeta(board,depth,a,b,maximizing_player):\n",
    "#     fringe = successors_board(board,maximizing_player)\n",
    "#     bestmove = None\n",
    "#     # print(evaluate_board(board) not in range(-43.,43.))\n",
    "#     if depth == 0 :\n",
    "#     # if depth == 0:\n",
    "#         # print('hi',board)\n",
    "#         # print(evaluate_board(board))\n",
    "#         print_board(board)\n",
    "#         print()\n",
    "#         return [evaluate_board(board),board]\n",
    "#     if maximizing_player == \"W\":\n",
    "#         value = a\n",
    "#         for child in fringe:\n",
    "#             # ab = alphabeta(child,depth -1, a, b, \"B\")[0]\n",
    "\n",
    "#             value = max(value, alphabeta(child,depth -1, a, b, \"B\")[0])\n",
    "#             a = max(a,value)\n",
    "#             # bstring = board_to_string(child)\n",
    "#             # print('')\n",
    "#             # print_board(child)\n",
    "#             if a >=b:\n",
    "#                 # bestmove = child\n",
    "#                 break\n",
    "#         # print('hi',value)\n",
    "#         return value,child\n",
    "#     if maximizing_player == \"B\":\n",
    "#         value = b\n",
    "#         for child in fringe:\n",
    "#             value = min(value, alphabeta(child,depth-1,a,b,\"W\")[0])\n",
    "#             b = min(b,value)\n",
    "#             bstring = board_to_string(child)\n",
    "#             # print('')\n",
    "#             # print_board(child)\n",
    "#             if b<=a:\n",
    "#                 # bestmove = child\n",
    "#                 break\n",
    "#         return value,child\n",
    "\n",
    "# # alphabeta(sb,4,-math.inf,math.inf,\"B\")\n",
    "# alphabeta(eb,4,-math.inf,math.inf,\"B\")\n",
    "# # sb\n"
   ]
  },
  {
   "cell_type": "code",
   "execution_count": 182,
   "metadata": {},
   "outputs": [
    {
     "output_type": "execute_result",
     "data": {
      "text/plain": [
       "[['k', '.', '.', '.', '.', '.', '.', '.'],\n",
       " ['Q', '.', '.', '.', '.', '.', '.', '.'],\n",
       " ['.', 'K', '.', '.', '.', '.', '.', '.'],\n",
       " ['.', '.', '.', '.', '.', '.', '.', '.'],\n",
       " ['.', '.', '.', '.', '.', '.', '.', '.'],\n",
       " ['.', '.', '.', '.', '.', '.', '.', '.'],\n",
       " ['.', '.', '.', '.', '.', '.', '.', '.'],\n",
       " ['.', '.', '.', '.', '.', '.', '.', '.']]"
      ]
     },
     "metadata": {},
     "execution_count": 182
    }
   ],
   "source": [
    "eb "
   ]
  },
  {
   "cell_type": "code",
   "execution_count": 183,
   "metadata": {},
   "outputs": [
    {
     "output_type": "execute_result",
     "data": {
      "text/plain": [
       "(1000,\n",
       " [['.', '.', '.', '.', '.', '.', '.', '.'],\n",
       "  ['k', '.', '.', '.', '.', '.', '.', '.'],\n",
       "  ['.', 'K', '.', '.', '.', '.', '.', '.'],\n",
       "  ['.', '.', '.', '.', '.', '.', '.', '.'],\n",
       "  ['.', '.', '.', '.', '.', '.', '.', '.'],\n",
       "  ['.', '.', '.', '.', '.', '.', '.', '.'],\n",
       "  ['.', '.', '.', '.', '.', '.', '.', '.'],\n",
       "  ['.', '.', '.', '.', '.', '.', '.', '.']])"
      ]
     },
     "metadata": {},
     "execution_count": 183
    }
   ],
   "source": [
    "eb = boardify(emptyboard)\n",
    "eb[0][0] = 'k'\n",
    "eb[2][1]  = 'K'\n",
    "eb[1][0] = 'Q'\n",
    "eb\n",
    "alphabeta(eb,2, -math.inf,math.inf, 'B')"
   ]
  },
  {
   "cell_type": "code",
   "execution_count": 184,
   "metadata": {},
   "outputs": [
    {
     "output_type": "execute_result",
     "data": {
      "text/plain": [
       "True"
      ]
     },
     "metadata": {},
     "execution_count": 184
    }
   ],
   "source": [
    "isinstance([],list )\n"
   ]
  },
  {
   "cell_type": "code",
   "execution_count": 185,
   "metadata": {},
   "outputs": [
    {
     "output_type": "execute_result",
     "data": {
      "text/plain": [
       "-40.25999999999999"
      ]
     },
     "metadata": {},
     "execution_count": 185
    }
   ],
   "source": [
    "bestcase = [['R', 'N', 'B', 'Q', 'K', 'B', 'N', 'R'],\n",
    " ['P', 'P', 'P', 'P', 'P', 'P', 'P', 'P'],\n",
    " ['.', '.', '.', '.', '.', '.', '.', '.'],\n",
    " ['.', '.', '.', '.', '.', '.', '.', '.'],\n",
    " ['.', '.', '.', '.', '.', '.', '.', '.'],\n",
    " ['.', '.', '.', '.', '.', '.', '.', '.'],\n",
    " ['p', 'p', 'p', 'p', 'p', 'p', 'p', 'p'],\n",
    " ['r', 'n', 'b', 'q', 'k', 'b', 'n', 'r']]\n",
    "for row in range(0,2):\n",
    "    for col in range(0,8):\n",
    "        bestcase[row][col] = '.'\n",
    "bestcase[0][0] = 'K'\n",
    "# bestcase[0][1] = 'p'\n",
    "\n",
    "evaluate_board(bestcase)\n"
   ]
  },
  {
   "cell_type": "code",
   "execution_count": 186,
   "metadata": {},
   "outputs": [
    {
     "output_type": "execute_result",
     "data": {
      "text/plain": [
       "1"
      ]
     },
     "metadata": {},
     "execution_count": 186
    }
   ],
   "source": [
    "3 not in range(0,4)\n",
    "import math\n",
    "100 < math.inf\n",
    "min(1,2)"
   ]
  },
  {
   "cell_type": "code",
   "execution_count": 187,
   "metadata": {},
   "outputs": [
    {
     "output_type": "execute_result",
     "data": {
      "text/plain": [
       "[['K', '.', '.', '.', '.', '.', '.', '.'],\n",
       " ['.', '.', '.', '.', '.', '.', '.', '.'],\n",
       " ['.', '.', '.', '.', '.', '.', '.', '.'],\n",
       " ['.', '.', '.', '.', '.', '.', '.', '.'],\n",
       " ['.', '.', '.', '.', '.', '.', '.', '.'],\n",
       " ['.', '.', '.', '.', '.', '.', '.', '.'],\n",
       " ['p', 'p', 'p', 'p', 'p', 'p', 'p', 'p'],\n",
       " ['r', 'n', 'b', 'q', 'k', 'b', 'n', 'r']]"
      ]
     },
     "metadata": {},
     "execution_count": 187
    }
   ],
   "source": [
    "bestcase"
   ]
  },
  {
   "cell_type": "code",
   "execution_count": 188,
   "metadata": {},
   "outputs": [
    {
     "output_type": "execute_result",
     "data": {
      "text/plain": [
       "[['r', '.', '.', '.', '.', 'k', '.', '.'],\n",
       " ['p', '.', '.', '.', '.', '.', '.', '.'],\n",
       " ['P', '.', '.', '.', '.', '.', '.', '.'],\n",
       " ['.', 'p', 'K', 'Q', '.', '.', '.', '.'],\n",
       " ['.', 'N', 'p', '.', '.', '.', '.', '.'],\n",
       " ['.', '.', '.', '.', '.', '.', '.', '.'],\n",
       " ['p', 'p', '.', '.', '.', '.', '.', '.'],\n",
       " ['.', '.', '.', '.', '.', '.', '.', '.']]"
      ]
     },
     "metadata": {},
     "execution_count": 188
    }
   ],
   "source": [
    "xx"
   ]
  },
  {
   "cell_type": "code",
   "execution_count": 189,
   "metadata": {},
   "outputs": [
    {
     "output_type": "execute_result",
     "data": {
      "text/plain": [
       "['p', 'r', 'n', 'b', 'q', 'k']"
      ]
     },
     "metadata": {},
     "execution_count": 189
    }
   ],
   "source": [
    "black_pieces"
   ]
  },
  {
   "cell_type": "code",
   "execution_count": 190,
   "metadata": {},
   "outputs": [
    {
     "output_type": "execute_result",
     "data": {
      "text/plain": [
       "[['R', 'N', 'B', 'Q', 'K', 'B', 'N', 'R'],\n",
       " ['P', 'P', 'P', 'P', 'P', 'P', 'P', 'P'],\n",
       " ['.', '.', '.', '.', '.', '.', '.', '.'],\n",
       " ['.', '.', '.', '.', '.', '.', '.', '.'],\n",
       " ['.', '.', '.', '.', '.', '.', '.', '.'],\n",
       " ['.', '.', '.', '.', '.', '.', '.', '.'],\n",
       " ['p', 'p', 'p', 'p', 'p', 'p', 'p', 'p'],\n",
       " ['r', 'n', 'b', 'q', 'k', 'b', 'n', 'r']]"
      ]
     },
     "metadata": {},
     "execution_count": 190
    }
   ],
   "source": [
    "sb"
   ]
  },
  {
   "cell_type": "code",
   "execution_count": 191,
   "metadata": {},
   "outputs": [
    {
     "output_type": "execute_result",
     "data": {
      "text/plain": [
       "[['r', '.', '.', '.', '.', 'k', '.', '.'],\n",
       " ['p', '.', '.', '.', '.', '.', '.', '.'],\n",
       " ['P', '.', '.', '.', '.', '.', '.', '.'],\n",
       " ['.', 'p', 'K', 'Q', '.', '.', '.', '.'],\n",
       " ['.', 'N', 'p', '.', '.', '.', '.', '.'],\n",
       " ['.', '.', '.', '.', '.', '.', '.', '.'],\n",
       " ['p', 'p', '.', '.', '.', '.', '.', '.'],\n",
       " ['.', '.', '.', '.', '.', '.', '.', '.']]"
      ]
     },
     "metadata": {},
     "execution_count": 191
    }
   ],
   "source": [
    "xx"
   ]
  },
  {
   "cell_type": "code",
   "execution_count": 192,
   "metadata": {},
   "outputs": [
    {
     "output_type": "execute_result",
     "data": {
      "text/plain": [
       "[]"
      ]
     },
     "metadata": {},
     "execution_count": 192
    }
   ],
   "source": [
    "valid_spots(sb,(0,3))\n"
   ]
  },
  {
   "cell_type": "code",
   "execution_count": 193,
   "metadata": {},
   "outputs": [
    {
     "output_type": "execute_result",
     "data": {
      "text/plain": [
       "[['R', 'N', 'B', 'Q', 'K', 'B', 'N', 'R'],\n",
       " ['P', 'P', 'P', 'P', 'P', 'P', 'P', 'P'],\n",
       " ['.', '.', '.', '.', '.', '.', '.', '.'],\n",
       " ['.', '.', '.', '.', '.', '.', '.', '.'],\n",
       " ['.', '.', '.', '.', '.', '.', '.', '.'],\n",
       " ['.', '.', '.', '.', '.', '.', '.', '.'],\n",
       " ['p', 'p', 'p', 'p', 'p', 'p', 'p', 'p'],\n",
       " ['r', 'n', 'b', 'q', 'k', 'b', 'n', 'r']]"
      ]
     },
     "metadata": {},
     "execution_count": 193
    }
   ],
   "source": [
    "sb"
   ]
  },
  {
   "cell_type": "code",
   "execution_count": 194,
   "metadata": {},
   "outputs": [
    {
     "output_type": "stream",
     "name": "stdout",
     "text": [
      "r\n.\n.\n.\n.\n.\n.\n.\n"
     ]
    }
   ],
   "source": [
    "white_pieces = ['R', 'N', 'B', 'Q', 'K', 'P']\n",
    "black_pieces = ['p','r', 'n', 'b', 'q', 'k']\n",
    "frow = ['r', '.', '.', '.', '.', '.', '.', '.']\n",
    "for col in frow:\n",
    "    print(col)"
   ]
  },
  {
   "cell_type": "code",
   "execution_count": 195,
   "metadata": {},
   "outputs": [
    {
     "output_type": "execute_result",
     "data": {
      "text/plain": [
       "[['R', 'N', 'B', 'Q', 'K', 'B', 'N', 'R'],\n",
       " ['P', 'P', 'P', 'P', 'P', 'P', 'P', 'P'],\n",
       " ['.', '.', '.', '.', '.', '.', '.', '.'],\n",
       " ['.', '.', '.', '.', '.', '.', '.', '.'],\n",
       " ['.', '.', '.', '.', '.', '.', '.', '.'],\n",
       " ['.', '.', '.', '.', '.', '.', '.', '.'],\n",
       " ['p', 'p', 'p', 'p', 'p', 'p', 'p', 'p'],\n",
       " ['r', 'n', 'b', 'q', 'k', 'b', 'n', 'r']]"
      ]
     },
     "metadata": {},
     "execution_count": 195
    }
   ],
   "source": [
    "startboard = \"RNBQKBNRPPPPPPPP................................pppppppprnbqkbnr\"\n",
    "boardify(startboard)"
   ]
  },
  {
   "cell_type": "code",
   "execution_count": 196,
   "metadata": {},
   "outputs": [
    {
     "output_type": "execute_result",
     "data": {
      "text/plain": [
       "'r....k..p.......P........pKQ.....Np.............pp..............'"
      ]
     },
     "metadata": {},
     "execution_count": 196
    }
   ],
   "source": [
    "# for when the program needs to send the next move to player2\n",
    "# board_to_string(board) -> string of original raw board string\n",
    "def board_to_string(board):\n",
    "    result = ''\n",
    "    for row in board:\n",
    "        result += \"\".join(row)\n",
    "    return result\n",
    "board_to_string(xx)"
   ]
  },
  {
   "cell_type": "code",
   "execution_count": 69,
   "metadata": {},
   "outputs": [
    {
     "output_type": "stream",
     "name": "stdout",
     "text": [
      "0\nr....k..\n1\np.......\n2\nP.......\n3\n.pKQ....\n4\n.Np.....\n5\n........\n6\npp......\n7\n........\n"
     ]
    }
   ],
   "source": []
  },
  {
   "cell_type": "code",
   "execution_count": 197,
   "metadata": {},
   "outputs": [],
   "source": [
    "def mcts_eval(xi, c, N, ni):\n",
    "    N2, ni2 = N,ni\n",
    "    if N == 0:\n",
    "        N2 = math.inf\n",
    "    if ni ==0:\n",
    "        ni2 = 0.001\n",
    "    # return N2,ni2    \n",
    "    # print(N2)\n",
    "    # print(math.log(N2))\n",
    "    return xi + c*math.sqrt(math.log(N2)/ni2) "
   ]
  },
  {
   "cell_type": "code",
   "execution_count": 198,
   "metadata": {},
   "outputs": [
    {
     "output_type": "execute_result",
     "data": {
      "text/plain": [
       "inf"
      ]
     },
     "metadata": {},
     "execution_count": 198
    }
   ],
   "source": [
    "mcts_eval(0,1.5, 0, 0)"
   ]
  },
  {
   "cell_type": "code",
   "execution_count": 199,
   "metadata": {},
   "outputs": [
    {
     "output_type": "stream",
     "name": "stdout",
     "text": [
      "10.748831916736547\n10.748831916736547\n10.748831916736547\n10.748831916736547\n10.748831916736547\n10.748831916736547\n1010.7488319167365\n10.748831916736547\n10.748831916736547\n10.748831916736547\n10.748831916736547\n10.748831916736547\n10.748831916736547\n10.748831916736547\n10.748831916736547\n10.748831916736547\n10.748831916736547\n10.748831916736547\n10.748831916736547\n10.748831916736547\n10.748831916736547\n10.748831916736547\n"
     ]
    }
   ],
   "source": [
    "children = successors_board(eb, 'W')\n",
    "for child in children:\n",
    "    print(mcts_eval(evaluate_board(child),1.5,2,1))"
   ]
  },
  {
   "cell_type": "code",
   "execution_count": 200,
   "metadata": {},
   "outputs": [
    {
     "output_type": "execute_result",
     "data": {
      "text/plain": [
       "9.210340371976184"
      ]
     },
     "metadata": {},
     "execution_count": 200
    }
   ],
   "source": [
    "math.log(10000)"
   ]
  },
  {
   "cell_type": "code",
   "execution_count": null,
   "metadata": {},
   "outputs": [],
   "source": []
  },
  {
   "cell_type": "code",
   "execution_count": 201,
   "metadata": {},
   "outputs": [],
   "source": [
    "adict = {'primis':1.88,'secundus':5.28,'tertium':8.57,'quartus':12.16,'quintus':15.69,'sextus':19.19,'triplex':21.66,'quadrupla':13.10,'squadron':22.59,'prattle':29.46,'company':32.71,'quintuplicatam':16.87,'pandemonium':22.01}"
   ]
  },
  {
   "cell_type": "code",
   "execution_count": 202,
   "metadata": {},
   "outputs": [
    {
     "output_type": "error",
     "ename": "KeyError",
     "evalue": "1.88",
     "traceback": [
      "\u001b[1;31m---------------------------------------------------------------------------\u001b[0m",
      "\u001b[1;31mKeyError\u001b[0m                                  Traceback (most recent call last)",
      "\u001b[1;32m<ipython-input-202-c6e20ee3c69b>\u001b[0m in \u001b[0;36m<module>\u001b[1;34m\u001b[0m\n\u001b[0;32m      1\u001b[0m \u001b[0mindices\u001b[0m \u001b[1;33m=\u001b[0m \u001b[0msorted\u001b[0m\u001b[1;33m(\u001b[0m\u001b[0madict\u001b[0m\u001b[1;33m.\u001b[0m\u001b[0mvalues\u001b[0m\u001b[1;33m(\u001b[0m\u001b[1;33m)\u001b[0m\u001b[1;33m)\u001b[0m\u001b[1;33m\u001b[0m\u001b[1;33m\u001b[0m\u001b[0m\n\u001b[0;32m      2\u001b[0m \u001b[1;32mfor\u001b[0m \u001b[0mi\u001b[0m \u001b[1;32min\u001b[0m \u001b[0mindices\u001b[0m\u001b[1;33m:\u001b[0m\u001b[1;33m\u001b[0m\u001b[1;33m\u001b[0m\u001b[0m\n\u001b[1;32m----> 3\u001b[1;33m     \u001b[0mprint\u001b[0m\u001b[1;33m(\u001b[0m\u001b[0madict\u001b[0m\u001b[1;33m[\u001b[0m\u001b[0mi\u001b[0m\u001b[1;33m]\u001b[0m\u001b[1;33m)\u001b[0m\u001b[1;33m\u001b[0m\u001b[1;33m\u001b[0m\u001b[0m\n\u001b[0m",
      "\u001b[1;31mKeyError\u001b[0m: 1.88"
     ]
    }
   ],
   "source": [
    "indices = sorted(adict.values())\n",
    "for i in indices:\n",
    "    print(adict[i])"
   ]
  },
  {
   "cell_type": "code",
   "execution_count": 203,
   "metadata": {},
   "outputs": [
    {
     "output_type": "execute_result",
     "data": {
      "text/plain": [
       "['primis',\n",
       " 'secundus',\n",
       " 'tertium',\n",
       " 'quartus',\n",
       " 'quadrupla',\n",
       " 'quintus',\n",
       " 'quintuplicatam',\n",
       " 'sextus',\n",
       " 'triplex',\n",
       " 'pandemonium',\n",
       " 'squadron',\n",
       " 'prattle',\n",
       " 'company']"
      ]
     },
     "metadata": {},
     "execution_count": 203
    }
   ],
   "source": [
    "sort_orders = sorted(adict.items(), key=lambda x: x[1])\n",
    "sort_orders\n",
    "finallist = []\n",
    "for item in sort_orders:\n",
    "    finallist.append(item[0])\n",
    "finallist\n",
    "# sort_orders = sorted(adict, key=lambda x: x[1])\n",
    "# sort_orders"
   ]
  },
  {
   "cell_type": "code",
   "execution_count": null,
   "metadata": {},
   "outputs": [],
   "source": []
  },
  {
   "cell_type": "code",
   "execution_count": 204,
   "metadata": {},
   "outputs": [
    {
     "output_type": "execute_result",
     "data": {
      "text/plain": [
       "True"
      ]
     },
     "metadata": {},
     "execution_count": 204
    }
   ],
   "source": [
    "-1.5987211554602254e-14 < 1"
   ]
  },
  {
   "cell_type": "code",
   "execution_count": 205,
   "metadata": {},
   "outputs": [
    {
     "output_type": "execute_result",
     "data": {
      "text/plain": [
       "-4.440892098500626e-15"
      ]
     },
     "metadata": {},
     "execution_count": 205
    }
   ],
   "source": [
    "thisboard = [['.', 'R', 'B', 'Q', 'K', 'B', 'N', 'R'], ['P', 'P', 'P', 'P', 'P', 'P', 'P', 'P'], ['.', '.', 'N', '.', '.', '.', '.', '.'], ['.', '.', '.', '.', '.', '.', '.', '.'], ['p', '.', '.', '.', '.', '.', '.', '.'], ['.', '.', '.', '.', '.', '.', '.', '.'], ['.', 'p', 'p', 'p', 'p', 'p', 'p', 'p'], ['r', 'n', 'b', 'q', 'k', 'b', 'n', 'r']]\n",
    "evaluate_board(thisboard)"
   ]
  },
  {
   "cell_type": "code",
   "execution_count": 206,
   "metadata": {},
   "outputs": [
    {
     "output_type": "execute_result",
     "data": {
      "text/plain": [
       "[['.', 'R', 'B', 'Q', 'K', 'B', 'N', 'R'],\n",
       " ['P', 'P', 'P', 'P', 'P', 'P', 'P', 'P'],\n",
       " ['.', '.', 'N', '.', '.', '.', '.', '.'],\n",
       " ['.', '.', '.', '.', '.', '.', '.', '.'],\n",
       " ['p', '.', '.', '.', '.', '.', '.', '.'],\n",
       " ['.', '.', '.', '.', '.', '.', '.', '.'],\n",
       " ['.', 'p', 'p', 'p', 'p', 'p', 'p', 'p'],\n",
       " ['r', 'n', 'b', 'q', 'k', 'b', 'n', 'r']]"
      ]
     },
     "metadata": {},
     "execution_count": 206
    }
   ],
   "source": [
    "thisboard\n",
    "\n"
   ]
  },
  {
   "cell_type": "code",
   "execution_count": 207,
   "metadata": {},
   "outputs": [
    {
     "output_type": "error",
     "ename": "SyntaxError",
     "evalue": "invalid syntax (<ipython-input-207-1ed6af330e1e>, line 3)",
     "traceback": [
      "\u001b[1;36m  File \u001b[1;32m\"<ipython-input-207-1ed6af330e1e>\"\u001b[1;36m, line \u001b[1;32m3\u001b[0m\n\u001b[1;33m    visits = 0\u001b[0m\n\u001b[1;37m    ^\u001b[0m\n\u001b[1;31mSyntaxError\u001b[0m\u001b[1;31m:\u001b[0m invalid syntax\n"
     ]
    }
   ],
   "source": [
    "class Node (\n",
    "    action = 0\n",
    "    visits = 0\n",
    "    reward = 0.\n",
    "    parent = Node()\n",
    "    children = []\n",
    "\n",
    "    def update(value);\n",
    "    def addchild(child);\n",
    "\n",
    ")"
   ]
  },
  {
   "cell_type": "code",
   "execution_count": 210,
   "metadata": {},
   "outputs": [
    {
     "output_type": "execute_result",
     "data": {
      "text/plain": [
       "-891.74"
      ]
     },
     "metadata": {},
     "execution_count": 210
    }
   ],
   "source": [
    "worstcase = 'RNBQ.BNRQQQQQQQQ...............................................k'\n",
    "boardify(worstcase)\n",
    "\n",
    "evaluate_board(worstcase)"
   ]
  },
  {
   "cell_type": "code",
   "execution_count": null,
   "metadata": {},
   "outputs": [],
   "source": []
  }
 ]
}